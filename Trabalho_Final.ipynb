{
 "cells": [
  {
   "cell_type": "markdown",
   "source": "# PMR3404 - Controle I\n# Projeto Final (Ball on Wheel)\n\n#### Bruno Fernandes Maione (10770631)\n#### Victor Kowalski Martins (10770482)\n\n#### Professores: Eduardo Aoun Tannuri e Newton Maruyama\n\n#### Julho 2021",
   "metadata": {
    "id": "TFL27QDFYFSb",
    "cell_id": "00000-202c4321-e54e-4a0c-bec2-767c402c0132",
    "deepnote_cell_type": "markdown"
   }
  },
  {
   "cell_type": "code",
   "metadata": {
    "id": "tfDhZcd2YFSe",
    "cell_id": "00001-c45d5ffd-211e-4627-9ab2-b3c282342b2d",
    "deepnote_to_be_reexecuted": false,
    "source_hash": "89b0968e",
    "execution_start": 1627852167333,
    "execution_millis": 2504,
    "deepnote_cell_type": "code"
   },
   "source": "# Aqui importamos todas as bibliotecas que serão utilizadas no projeto\n\nfrom sympy import *\nfrom grafico_margens import plot_margins\nimport warnings\ninit_printing(use_unicode=True)\nwarnings.filterwarnings('ignore')\nimport control.matlab as co\nimport matplotlib.pyplot as plt\nimport numpy as np\nfrom ipywidgets import interact",
   "execution_count": 1,
   "outputs": []
  },
  {
   "cell_type": "markdown",
   "source": "### 1. Introdução\n\nO presente trabalho tem o intuito de modelar o controle para um sistema denominado \"Ball on Wheel\". O mesmo consiste numa roda, de inércia não desprezível e acionada por um motor DC, sobre a qual se deve equilibrar uma bola. Um sensor de posição mede o deslocamento da bola em relação ao eixo vertical (isso é, a variável $y(t)$). O objetivo do sistema de controle é manter a bola no topo da roda. Assume-se que não há escorregamento entre as partes.\n\nA Figura a seguir, expõe uma foto real do sistema em conjunto com um desenho esquemático.\n\n![Picture title](Figuras/Real_Esquema.png)\n\nA bola possui massa $m$, momento de inércia $\\vartheta$ e raio $r$. A roda possui momento de inércia $\\Theta$ e raio $R$.\n\nO torque na roda é dado por $\\tau(t)$. A posição angular da roda relativa ao eixo vertical é dada por $\\psi(t)$, a posição angular da bola em torno do centro da roda é descrita por $\\chi(t)$ e o deslocamento linear em relação ao eixo vertical, considerando que não há escorregamento, é dado por: $y(t) = (R+r)sin(\\chi(t))$.\n\nSendo assim, considerando que as equações de movimento, de dinâmica do motor e os parâmetros físicos do sistema foram expostos no enunciado (e também serão expostos ao longo do desenvolvimento), pode-se prosseguir para a análise da planta para um posterior dimensionamento do controlador preterido.",
   "metadata": {
    "id": "zdjbyWi4YFSf",
    "cell_id": "00002-32d98f2f-e55d-41cc-86ef-87ab8372bfeb",
    "deepnote_cell_type": "markdown"
   }
  },
  {
   "cell_type": "markdown",
   "source": "### 2. Detalhamento da Planta\n\nO primeiro passo a ser efetuado para o presente projeto é a definição e simplificação das equações de movimento, que deverão ser analisadas para uma futura construção do diagrama de blocos de nossa planta.\n\nComo trabalharemos com ângulos pequenos e, principalmente, para possibilitar as transformadas de laplace posteriores, será utilizada a seguinte aproximação para os senos:\n\n$$\nsin(x) = x\n$$\n\nTal aproximação, adaptada do primeiro limite fundamental do Cálculo, funciona para ângulos menores de 14º com erro de menor de 1%, o que se trata de uma precisão perfeitamente satisfatória para o projeto.",
   "metadata": {
    "tags": [],
    "cell_id": "00003-a15e59cd-68df-419b-ac97-6be5a4ebb4c7",
    "deepnote_cell_type": "markdown"
   }
  },
  {
   "cell_type": "code",
   "metadata": {
    "scrolled": true,
    "id": "e6X3u0LLYFSf",
    "cell_id": "00003-aca322d3-0d0e-4ae9-877b-a873694e5a42",
    "deepnote_to_be_reexecuted": false,
    "source_hash": "59eb0697",
    "execution_start": 1627852169857,
    "execution_millis": 137,
    "deepnote_cell_type": "code"
   },
   "source": "# Definindo as equações de movimento\n\nt = symbols('t')\ns = symbols('s')\nm = symbols('m')\nr = symbols('r')\nR = symbols('R')\ng = symbols('g')\nv = symbols('vartheta')\nO = symbols('Theta')\nn = symbols('n')\nKt = symbols('K_t')\nKv = symbols('K_v')\nLm = symbols('L_m')\nRm = symbols('R_m')\nT = symbols('Gamma')\n\ny, psi, chi, u, i, V = symbols('y, psi, chi, u, i, V', cls=Function)\n\ny = y(t)\ny_dot = y.diff()\ny_ddot = y_dot.diff()\n\npsi = psi(t)\npsi_dot = psi.diff()\npsi_ddot = psi_dot.diff()\n\nchi = chi(t)\nchi_dot = chi.diff()\nchi_ddot = chi_dot.diff()\n\nu = u(t)\nu_dot = u.diff()\nu_ddot = u_dot.diff()\n\ni = i(t)\ni_dot = i.diff()\ni_ddot = i_dot.diff()\n\nV = V(t)\nV_dot = V.diff()\nV_ddot = V_dot.diff()\n\neq_y = Eq(y ,(R+r)*chi)\neq_psi_ddot = Eq(psi_ddot ,((m*(r**2) + v)*u + m*g*R*v*chi)/T)\neq_chi_ddot = Eq(chi_ddot ,(v*R*u + (O*(r**2) + v*(R**2))*m*g*chi)/(T*(r+R)))\neq_u = Eq(u ,n*Kt*i)\neq_V = Eq(V, Lm*i_dot + Rm*i + Kv*psi_dot)",
   "execution_count": 2,
   "outputs": []
  },
  {
   "cell_type": "markdown",
   "source": "Uma vez com as equações definidas no código, podemos realizar as manipulações no domínio da frequência, com as transformadas de laplace.\n\nComo a biblioteca Sympy no Python não tem suporte nativo para transformadas de laplace com derivadas e integrais, devemos definir uma função (que aproveite o básico da biblioteca nativa) para abrangir tais funcionalidades e possibilite o uso ao longo das deduções, uma vez que essas peculiaridades com certeza seriam utilizadas.",
   "metadata": {
    "tags": [],
    "cell_id": "00004-29de3f6e-adfa-4261-a79e-f26b3d85ae4a",
    "deepnote_cell_type": "markdown"
   }
  },
  {
   "cell_type": "code",
   "metadata": {
    "colab": {
     "base_uri": "https://localhost:8080/",
     "height": 55
    },
    "id": "prWni-fAYFSg",
    "outputId": "7c8f81c0-f4b3-44fb-8bd9-02755dc22187",
    "cell_id": "00004-6484d228-93e4-47ff-8883-4884cce92298",
    "deepnote_to_be_reexecuted": false,
    "source_hash": "1c670119",
    "execution_start": 1627852170004,
    "execution_millis": 4,
    "deepnote_cell_type": "code"
   },
   "source": "def laplace_completa(e, t, s):\n    \"\"\"\n        Função completa adaptada da biblioteca da transformada de laplace, acrescido do suporte à derivadas e integrais.\n        Adaptada de: https://github.com/sympy/sympy/issues/7219#issuecomment-154768904\n\n        Parâmetros\n            Inputs: e (expressão simbólica à ser transformada), t (simbólico que representa o tempo), s (simbólico que representa o s de nossa transformada)\n            Outputs: res (expressão simbólica após a transformada)\n    \"\"\"\n\n    res = laplace_transform(e, t, s, noconds=True)\n    wf = Wild('f')\n    lw = LaplaceTransform(wf, t, s)\n\n    for exp in res.find(lw):\n        e = exp.match(lw)[wf]\n        args = e.args\n\n        if isinstance(e, Derivative):\n            # for derivative check that there's only d/dt^n with n>0\n            if len(args) == 2 and args[1][0] == t:\n                n = args[1][1]\n                if n > 0:\n                    newexp = s**n * LaplaceTransform(e.args[0], t, s)\n                res = res.replace(exp, newexp)\n\n        elif isinstance(e, Integral):\n            # for integral check that there's only n consecutive indefinite integrals w.r.t. t\n            if all(len(arg) == 1 and arg[0] == t for arg in args[1:]):\n                newexp = s**(-len(args[1:])) * LaplaceTransform(args[0], t, s)\n                res = res.replace(exp, newexp)\n\n        # caso não tenha derivada ou integral, segue sem entrar nos ifs\n\n    return res",
   "execution_count": 3,
   "outputs": []
  },
  {
   "cell_type": "code",
   "metadata": {
    "tags": [],
    "cell_id": "00007-e892485d-cbbe-48f3-91a8-808629559b1f",
    "deepnote_to_be_reexecuted": false,
    "source_hash": "c4c4e8",
    "execution_start": 1627852170036,
    "execution_millis": 688,
    "deepnote_cell_type": "code"
   },
   "source": "i_s = laplace_completa(i, t, s)\neq_i_s = Eq(i_s, solve(Eq(laplace_completa(eq_V.lhs,t,s), laplace_completa(eq_V.rhs,t,s)), i_s)[0])\neq_i_s",
   "execution_count": 4,
   "outputs": [
    {
     "output_type": "execute_result",
     "execution_count": 4,
     "data": {
      "text/plain": "                               -Kᵥ⋅s⋅LaplaceTransform(ψ(t), t, s) + LaplaceTra\nLaplaceTransform(i(t), t, s) = ───────────────────────────────────────────────\n                                                           Lₘ⋅s + Rₘ          \n\nnsform(V(t), t, s)\n──────────────────\n                  ",
      "image/png": "[encoded data removed]",
      "text/latex": "$\\displaystyle \\mathcal{L}_{t}\\left[i{\\left(t \\right)}\\right]\\left(s\\right) = \\frac{- K_{v} s \\mathcal{L}_{t}\\left[\\psi{\\left(t \\right)}\\right]\\left(s\\right) + \\mathcal{L}_{t}\\left[V{\\left(t \\right)}\\right]\\left(s\\right)}{L_{m} s + R_{m}}$"
     },
     "metadata": {
      "image/png": {
       "width": 307,
       "height": 37
      }
     }
    }
   ]
  },
  {
   "cell_type": "code",
   "metadata": {
    "tags": [],
    "cell_id": "00008-04a4bf59-2b56-4574-9933-ce14170c1b33",
    "deepnote_to_be_reexecuted": false,
    "source_hash": "b7efd89c",
    "execution_start": 1627852170755,
    "execution_millis": 37,
    "deepnote_cell_type": "code"
   },
   "source": "u_s = laplace_completa(u, t, s)\neq_u_s = Eq(u_s, solve(Eq(laplace_completa(eq_u.lhs,t,s), laplace_completa(eq_u.rhs,t,s)), u_s)[0])\neq_u_s",
   "execution_count": 5,
   "outputs": [
    {
     "output_type": "execute_result",
     "execution_count": 5,
     "data": {
      "text/plain": "LaplaceTransform(u(t), t, s) = Kₜ⋅n⋅LaplaceTransform(i(t), t, s)",
      "image/png": "[encoded data removed]",
      "text/latex": "$\\displaystyle \\mathcal{L}_{t}\\left[u{\\left(t \\right)}\\right]\\left(s\\right) = K_{t} n \\mathcal{L}_{t}\\left[i{\\left(t \\right)}\\right]\\left(s\\right)$"
     },
     "metadata": {
      "image/png": {
       "width": 246,
       "height": 23
      }
     }
    }
   ]
  },
  {
   "cell_type": "code",
   "metadata": {
    "tags": [],
    "cell_id": "00009-1ba39c59-3ba3-49b8-9ac6-b2cf7f6e07a1",
    "deepnote_to_be_reexecuted": false,
    "source_hash": "c4d24e49",
    "execution_start": 1627852170851,
    "execution_millis": 414,
    "deepnote_cell_type": "code"
   },
   "source": "chi_s = laplace_completa(chi, t, s)\neq_chi_s = Eq(chi_s, solve(Eq(laplace_completa(eq_chi_ddot.lhs,t,s), laplace_completa(eq_chi_ddot.rhs,t,s)), chi_s)[0]).simplify()\neq_chi_s",
   "execution_count": 6,
   "outputs": [
    {
     "output_type": "execute_result",
     "execution_count": 6,
     "data": {
      "text/plain": "                                 R⋅vartheta⋅LaplaceTransform(u(t), t, s)   \nLaplaceTransform(χ(t), t, s) = ────────────────────────────────────────────\n                                    2        2    2                       2\n                               Γ⋅R⋅s  + Γ⋅r⋅s  - R ⋅g⋅m⋅vartheta - Θ⋅g⋅m⋅r ",
      "image/png": "[encoded data removed]",
      "text/latex": "$\\displaystyle \\mathcal{L}_{t}\\left[\\chi{\\left(t \\right)}\\right]\\left(s\\right) = \\frac{R \\vartheta \\mathcal{L}_{t}\\left[u{\\left(t \\right)}\\right]\\left(s\\right)}{\\Gamma R s^{2} + \\Gamma r s^{2} - R^{2} g m \\vartheta - \\Theta g m r^{2}}$"
     },
     "metadata": {
      "image/png": {
       "width": 331,
       "height": 40
      }
     }
    }
   ]
  },
  {
   "cell_type": "code",
   "metadata": {
    "tags": [],
    "cell_id": "00006-f5993cc4-85cb-4182-9036-664e484d082c",
    "deepnote_to_be_reexecuted": false,
    "source_hash": "3c4d0191",
    "execution_start": 1627852171356,
    "execution_millis": 124,
    "deepnote_cell_type": "code"
   },
   "source": "psi_s = laplace_completa(psi, t, s)\neq_psi_s = Eq(psi_s, solve(Eq(laplace_completa(eq_psi_ddot.lhs,t,s), laplace_completa(eq_psi_ddot.rhs,t,s)), psi_s)[0])\neq_psi_s",
   "execution_count": 7,
   "outputs": [
    {
     "output_type": "execute_result",
     "execution_count": 7,
     "data": {
      "text/plain": "                                                                              \n                               R⋅g⋅m⋅vartheta⋅LaplaceTransform(χ(t), t, s) + m\nLaplaceTransform(ψ(t), t, s) = ───────────────────────────────────────────────\n                                                                              \n                                                                              \n\n  2                                                                     \n⋅r ⋅LaplaceTransform(u(t), t, s) + vartheta⋅LaplaceTransform(u(t), t, s)\n────────────────────────────────────────────────────────────────────────\n              2                                                         \n           Γ⋅s                                                          ",
      "image/png": "[encoded data removed]",
      "text/latex": "$\\displaystyle \\mathcal{L}_{t}\\left[\\psi{\\left(t \\right)}\\right]\\left(s\\right) = \\frac{R g m \\vartheta \\mathcal{L}_{t}\\left[\\chi{\\left(t \\right)}\\right]\\left(s\\right) + m r^{2} \\mathcal{L}_{t}\\left[u{\\left(t \\right)}\\right]\\left(s\\right) + \\vartheta \\mathcal{L}_{t}\\left[u{\\left(t \\right)}\\right]\\left(s\\right)}{\\Gamma s^{2}}$"
     },
     "metadata": {
      "image/png": {
       "width": 441,
       "height": 40
      }
     }
    }
   ]
  },
  {
   "cell_type": "code",
   "metadata": {
    "tags": [],
    "cell_id": "00008-af80a9b1-fa1e-452e-b2c5-cdb106fb32f5",
    "deepnote_to_be_reexecuted": false,
    "source_hash": "7532c585",
    "execution_start": 1627852171472,
    "execution_millis": 45,
    "deepnote_cell_type": "code"
   },
   "source": "y_s = laplace_completa(y, t, s)\neq_y_s = Eq(y_s, solve(Eq(laplace_completa(eq_y.lhs,t,s), laplace_completa(eq_y.rhs,t,s)), y_s)[0])\neq_y_s",
   "execution_count": 8,
   "outputs": [
    {
     "output_type": "execute_result",
     "execution_count": 8,
     "data": {
      "text/plain": "LaplaceTransform(y(t), t, s) = (R + r)⋅LaplaceTransform(χ(t), t, s)",
      "image/png": "[encoded data removed]",
      "text/latex": "$\\displaystyle \\mathcal{L}_{t}\\left[y{\\left(t \\right)}\\right]\\left(s\\right) = \\left(R + r\\right) \\mathcal{L}_{t}\\left[\\chi{\\left(t \\right)}\\right]\\left(s\\right)$"
     },
     "metadata": {
      "image/png": {
       "width": 282,
       "height": 23
      }
     }
    }
   ]
  },
  {
   "cell_type": "markdown",
   "source": "Com as expressões tranformadas para o domínio da frequência, podemos construir o diagrama de blocos (em malha aberta) de nosso sistema.\n\n![Picture title](Figuras/db-inicial.png)\n\nChama-se $$\\frac{R\\vartheta}{\\Gamma(R+r)s^2 - mg(\\Theta r^2 + \\vartheta R^2)}$$ de $$G_1(s)$$ e pode-se simplificar o diagrama de blocos da seguinte forma:\n\n![Picture title](Figuras/db-intermediario.png)\n\nVamos agora realizar as outras operações para obtermos apenas um bloco de nossa planta.\nAs células a seguir realizam as mesmas, passo à passo, utilizando as funcionalidades do Python.",
   "metadata": {
    "tags": [],
    "cell_id": "00013-41f1d04d-95fd-47ed-ab2b-27c2affbd432",
    "deepnote_cell_type": "markdown"
   }
  },
  {
   "cell_type": "code",
   "metadata": {
    "tags": [],
    "cell_id": "00014-4af2c3cf-54bd-4d1d-8717-f2aee16afb4c",
    "deepnote_to_be_reexecuted": false,
    "source_hash": "bb5279c",
    "execution_start": 1627852171519,
    "execution_millis": 984,
    "deepnote_cell_type": "code"
   },
   "source": "G1 = (eq_chi_s.rhs/u_s).simplify()\n\nGcima = (((Kt*n)/(Lm*s+Rm))*G1).simplify()\n\nGbaixo = ((R*g*m*v + (m*r**2+v)/G1)*(Kv/(s*(R**2*m*v + O*m*r**2 + O*v)))).simplify()\n\nGp = (Gcima/(1+Gcima*Gbaixo)*(R+r)).simplify()\n\nGp",
   "execution_count": 9,
   "outputs": [
    {
     "output_type": "execute_result",
     "execution_count": 9,
     "data": {
      "text/plain": "                                                                              \n                                                                 Kₜ⋅R⋅n⋅s⋅vart\n──────────────────────────────────────────────────────────────────────────────\n        ⎛ 2             2   ⎛   2           ⎞ ⎛     2        2    2           \nKₜ⋅Kᵥ⋅n⋅⎝R ⋅g⋅m⋅vartheta  + ⎝m⋅r  + vartheta⎠⋅⎝Γ⋅R⋅s  + Γ⋅r⋅s  - R ⋅g⋅m⋅varthe\n\n             ⎛ 2                   2             ⎞                            \nheta⋅(R + r)⋅⎝R ⋅m⋅vartheta + Θ⋅m⋅r  + Θ⋅vartheta⎠                            \n──────────────────────────────────────────────────────────────────────────────\n            2⎞⎞                 ⎛ 2                   2             ⎞ ⎛     2 \nta - Θ⋅g⋅m⋅r ⎠⎠ + s⋅(Lₘ⋅s + Rₘ)⋅⎝R ⋅m⋅vartheta + Θ⋅m⋅r  + Θ⋅vartheta⎠⋅⎝Γ⋅R⋅s  \n\n                                      \n                                      \n──────────────────────────────────────\n       2    2                       2⎞\n+ Γ⋅r⋅s  - R ⋅g⋅m⋅vartheta - Θ⋅g⋅m⋅r ⎠",
      "image/png": "[encoded data removed]",
      "text/latex": "$\\displaystyle \\frac{K_{t} R n s \\vartheta \\left(R + r\\right) \\left(R^{2} m \\vartheta + \\Theta m r^{2} + \\Theta \\vartheta\\right)}{K_{t} K_{v} n \\left(R^{2} g m \\vartheta^{2} + \\left(m r^{2} + \\vartheta\\right) \\left(\\Gamma R s^{2} + \\Gamma r s^{2} - R^{2} g m \\vartheta - \\Theta g m r^{2}\\right)\\right) + s \\left(L_{m} s + R_{m}\\right) \\left(R^{2} m \\vartheta + \\Theta m r^{2} + \\Theta \\vartheta\\right) \\left(\\Gamma R s^{2} + \\Gamma r s^{2} - R^{2} g m \\vartheta - \\Theta g m r^{2}\\right)}$"
     },
     "metadata": {
      "image/png": {
       "width": 863,
       "height": 43
      }
     }
    }
   ]
  },
  {
   "cell_type": "markdown",
   "source": "Portanto, obtemos a função de transferência de nossa planta (malha aberta), substituindo o valor de $$G_1(s)$$, mostrada a seguir.\n\n![Picture title](Figuras/db-final.png)\n\nComo discutido com professores e outros colegas, para ao presente projeto iremos dimensionar nosso controlador para a variável $$Y(s)$$ diretamente.\n\nRepare que agora será necessário realizar tal dimensionamento, para posteriormente fazermos teste com distúrbios no torque da roda, parâmetro físico mais interessante na presente problemática.\n\nA malha fechada com nosso controlador fica, portanto, como mostrado a seguir.\n\n![Picture title](Figuras/db-malha-fechada.png)",
   "metadata": {
    "tags": [],
    "cell_id": "00020-a6ce1820-c712-452b-b55a-c66c9c89b190",
    "deepnote_cell_type": "markdown"
   }
  },
  {
   "cell_type": "markdown",
   "source": "### 3. Dimensionamento do controlador\n\nUm controlador PID pode ser pensado da seguinte forma:\n\n$$G_c(s) = K_p (1+T_d s + \\frac{1}{T_i s})$$\n\nPara o qual devemos definir os parâmetros $K_p$, $T_d$, $T_i$. ",
   "metadata": {
    "tags": [],
    "cell_id": "00025-be677c24-2dc9-4f92-bae3-3fcdbfc98765",
    "deepnote_cell_type": "markdown"
   }
  },
  {
   "cell_type": "code",
   "metadata": {
    "tags": [],
    "cell_id": "00020-b7703453-b741-4266-9f52-041f6aa3eed9",
    "deepnote_to_be_reexecuted": false,
    "source_hash": "2ce762da",
    "execution_start": 1627852172507,
    "execution_millis": 9,
    "deepnote_cell_type": "code"
   },
   "source": "# Celula utilizada para conseguirmos pegar a expressão simbólica e transformá-la para Python, evitando erros na cópia\nprint_python(Gp)",
   "execution_count": 10,
   "outputs": [
    {
     "name": "stdout",
     "text": "K_t = Symbol('K_t')\nR = Symbol('R')\nn = Symbol('n')\ns = Symbol('s')\nvartheta = Symbol('vartheta')\nr = Symbol('r')\nm = Symbol('m')\nTheta = Symbol('Theta')\nK_v = Symbol('K_v')\ng = Symbol('g')\nGamma = Symbol('Gamma')\nL_m = Symbol('L_m')\nR_m = Symbol('R_m')\ne = K_t*R*n*s*vartheta*(R + r)*(R**2*m*vartheta + Theta*m*r**2 + Theta*vartheta)/(K_t*K_v*n*(R**2*g*m*vartheta**2 + (m*r**2 + vartheta)*(Gamma*R*s**2 + Gamma*r*s**2 - R**2*g*m*vartheta - Theta*g*m*r**2)) + s*(L_m*s + R_m)*(R**2*m*vartheta + Theta*m*r**2 + Theta*vartheta)*(Gamma*R*s**2 + Gamma*r*s**2 - R**2*g*m*vartheta - Theta*g*m*r**2))\n",
     "output_type": "stream"
    }
   ]
  },
  {
   "cell_type": "code",
   "metadata": {
    "tags": [],
    "cell_id": "00021-b356799e-6693-428d-a747-6386bd139f14",
    "deepnote_to_be_reexecuted": false,
    "source_hash": "27b47e71",
    "execution_start": 1627852172556,
    "execution_millis": 0,
    "deepnote_cell_type": "code"
   },
   "source": "# Definição dos parâmetros numéricos\n\ns = co.tf(\"s\")\n\nTheta = 0.028 # kg.m^2\nR = 0.16 # m\nm = 0.048 # kg\nvartheta = 2.54e-5 #kg.m^2\nr = 0.0296 #m\nK_t = 0.1604 # N.m/A\nK_v = 0.1186 # V.s/rad\nR_m = 12 # ohm\nL_m = 1.16e-3 # H\ng = 9.8 # m/s^2\nn = 40\nGamma = Theta*vartheta + m*(vartheta*(R**2) + Theta*(r**2))\n\n\nGp = K_t*R*n*s*vartheta*(R + r)*(R**2*m*vartheta + Theta*m*r**2 + Theta*vartheta)/(K_t*K_v*n*(R**2*g*m*vartheta**2 + (m*r**2 + vartheta)*(Gamma*R*s**2 + Gamma*r*s**2 - R**2*g*m*vartheta - Theta*g*m*r**2)) + s*(L_m*s + R_m)*(R**2*m*vartheta + Theta*m*r**2 + Theta*vartheta)*(Gamma*R*s**2 + Gamma*r*s**2 - R**2*g*m*vartheta - Theta*g*m*r**2))",
   "execution_count": 11,
   "outputs": []
  },
  {
   "cell_type": "markdown",
   "source": "Vamos, como boa prática, analisar os polos e zeros de nossa função de transferência em malha aberta com os parâmetros numéricos definidos no $$\\textit{briefing}$$ do projeto.",
   "metadata": {
    "tags": [],
    "cell_id": "00028-aeb483bc-4fef-4a90-826f-40fc4c62e599",
    "deepnote_cell_type": "markdown"
   }
  },
  {
   "cell_type": "code",
   "metadata": {
    "tags": [],
    "cell_id": "00028-a40716e2-6d08-4201-b6aa-951056bbb4c6",
    "deepnote_to_be_reexecuted": false,
    "source_hash": "db856474",
    "execution_start": 1627852172557,
    "execution_millis": 4,
    "deepnote_cell_type": "code"
   },
   "source": "p_g = co.pole(Gp)\nz_g = co.zero(Gp)\nprint(p_g, z_g)",
   "execution_count": 12,
   "outputs": [
    {
     "name": "stdout",
     "text": "[-1.03425992e+04  5.69671377e+00 -5.72218197e+00 -2.20289160e+00] [0.]\n",
     "output_type": "stream"
    }
   ]
  },
  {
   "cell_type": "markdown",
   "source": "Nossa função de transferência com os valores numéricos fica, em adição, da seguinte forma:",
   "metadata": {
    "tags": [],
    "cell_id": "00030-4c376f01-7b46-4264-a662-cecfce127f2b",
    "deepnote_cell_type": "markdown"
   }
  },
  {
   "cell_type": "code",
   "metadata": {
    "tags": [],
    "cell_id": "00029-ea1c1f11-93b6-4605-bfe8-b417feb4964e",
    "deepnote_to_be_reexecuted": false,
    "source_hash": "fd651b13",
    "execution_start": 1627852172581,
    "execution_millis": 9,
    "deepnote_cell_type": "code"
   },
   "source": "print(\"VERSAO NAO SIMPLIFICADA\")\nprint(Gp)\n\n# Podemos realizar algumas manobras para simplificar ainda mais nossa funcao de transferencia, printamos sua versao simplificada logo abaixo\n\naux_simplifica = 1/(Gp.num[0][0][0])\nGpsimp = Gp*aux_simplifica/aux_simplifica\n\nprint(\"VERSAO SIMPLIFICADA\")\nprint(Gpsimp)",
   "execution_count": 13,
   "outputs": [
    {
     "name": "stdout",
     "text": "VERSAO NAO SIMPLIFICADA\n\n                              9.492e-12 s\n-----------------------------------------------------------------------\n8.107e-16 s^4 + 8.387e-12 s^3 + 1.866e-11 s^2 - 2.729e-10 s - 6.021e-10\n\nVERSAO SIMPLIFICADA\n\n                           s\n--------------------------------------------------------\n8.542e-05 s^4 + 0.8836 s^3 + 1.966 s^2 - 28.75 s - 63.44\n\n",
     "output_type": "stream"
    }
   ]
  },
  {
   "cell_type": "markdown",
   "source": "Vamos agora definir as expressões de nosso controlador em Python.",
   "metadata": {
    "tags": [],
    "cell_id": "00032-782e6fa8-1c7f-458b-b168-6d0cfc1f2473",
    "deepnote_cell_type": "markdown"
   }
  },
  {
   "cell_type": "code",
   "metadata": {
    "tags": [],
    "cell_id": "00030-e14f543d-1607-4874-b2b7-bf43816769a0",
    "deepnote_to_be_reexecuted": false,
    "source_hash": "38e6cf70",
    "execution_start": 1627858528383,
    "execution_millis": 1105,
    "deepnote_cell_type": "code"
   },
   "source": "@interact(Kp=(0.01, 1500), Td=(0.01, 10), Ti=(0.01, 10))\ndef sistema(Kp, Td, Ti):\n    Gc = Kp*(1+Td*s + 1/(Ti*s))\n    co.sisotool(co.minreal(Gp*Gc, verbose=False))",
   "execution_count": 51,
   "outputs": [
    {
     "output_type": "clearOutput"
    },
    {
     "data": {
      "text/plain": "<Figure size 432x288 with 4 Axes>",
      "image/png": "[encoded data removed]"
     },
     "metadata": {
      "needs_background": "light",
      "image/png": {
       "width": 394,
       "height": 283
      }
     },
     "output_type": "display_data"
    }
   ]
  },
  {
   "cell_type": "markdown",
   "source": "Utilizando a técnica interativa, permitida operacionalmente dadas as ferramentas computacionais atuais (no caso, Python), foi possível projetar um PID que atende satisfatoriamente os requisitos desejados. Os valores dos parâmetros serão:\n\n$$K_{p} = 500$$\n\n$$T_{d} = 2$$\n\n$$T_{i} = 2$$\n\nObserva-se que o ganho de margem pode apresentar inconsistência dado o requisito do enunciado, mas percebe-se que isso é natural dado que é impossível fazer o ganho de margem ser maior que 10dB, uma vez que o gráfico das frequência é assintótico à -180º.",
   "metadata": {
    "tags": [],
    "cell_id": "00032-339289db-806a-4609-b987-8e83a12e967d",
    "deepnote_cell_type": "markdown"
   }
  },
  {
   "cell_type": "code",
   "metadata": {
    "tags": [],
    "cell_id": "00033-695a6626-54c5-43e1-8417-0cd87e90d6ab",
    "deepnote_to_be_reexecuted": false,
    "source_hash": "84ddc2f8",
    "execution_start": 1627859419031,
    "execution_millis": 231,
    "deepnote_cell_type": "code"
   },
   "source": "Kp = 150\nTd = 10\nTi = 0.5\n\nGc = Kp*(1+Td*s + 1/(Ti*s))\nGfinal = co.minreal(Gc*Gp, verbose=False)\nGfmf  = co.minreal(co.feedback(Gfinal))\ny, t = co.step(Gfmf)\nplt.plot(t, y)",
   "execution_count": 65,
   "outputs": [
    {
     "name": "stdout",
     "text": "0 states have been removed from the model\n",
     "output_type": "stream"
    },
    {
     "output_type": "execute_result",
     "execution_count": 65,
     "data": {
      "text/plain": "[<matplotlib.lines.Line2D at 0x7f8f29b2e650>]"
     },
     "metadata": {}
    },
    {
     "data": {
      "text/plain": "<Figure size 432x288 with 1 Axes>",
      "image/png": "[encoded data removed]"
     },
     "metadata": {
      "needs_background": "light",
      "image/png": {
       "width": 372,
       "height": 248
      }
     },
     "output_type": "display_data"
    }
   ]
  },
  {
   "cell_type": "code",
   "source": "print(co.stepinfo(Gfinal))",
   "metadata": {
    "tags": [],
    "cell_id": "00026-08675f65-3d29-4501-8c95-4968fb43a513",
    "deepnote_to_be_reexecuted": false,
    "source_hash": "bbdd32bd",
    "execution_start": 1627859654720,
    "execution_millis": 11,
    "deepnote_cell_type": "code"
   },
   "outputs": [
    {
     "output_type": "error",
     "ename": "IndexError",
     "evalue": "index 0 is out of bounds for axis 0 with size 0",
     "traceback": [
      "\u001b[0;31m---------------------------------------------------------------------------\u001b[0m",
      "\u001b[0;31mIndexError\u001b[0m                                Traceback (most recent call last)",
      "\u001b[0;32m/tmp/ipykernel_162/1662641823.py\u001b[0m in \u001b[0;36m<module>\u001b[0;34m\u001b[0m\n\u001b[0;32m----> 1\u001b[0;31m \u001b[0mprint\u001b[0m\u001b[0;34m(\u001b[0m\u001b[0mco\u001b[0m\u001b[0;34m.\u001b[0m\u001b[0mstepinfo\u001b[0m\u001b[0;34m(\u001b[0m\u001b[0mGfinal\u001b[0m\u001b[0;34m)\u001b[0m\u001b[0;34m)\u001b[0m\u001b[0;34m\u001b[0m\u001b[0;34m\u001b[0m\u001b[0m\n\u001b[0m",
      "\u001b[0;32m~/venv/lib/python3.7/site-packages/control/matlab/timeresp.py\u001b[0m in \u001b[0;36mstepinfo\u001b[0;34m(sysdata, T, yfinal, SettlingTimeThreshold, RiseTimeLimits)\u001b[0m\n\u001b[1;32m    133\u001b[0m     S = step_info(sysdata, T=T, T_num=None, yfinal=yfinal,\n\u001b[1;32m    134\u001b[0m                   \u001b[0mSettlingTimeThreshold\u001b[0m\u001b[0;34m=\u001b[0m\u001b[0mSettlingTimeThreshold\u001b[0m\u001b[0;34m,\u001b[0m\u001b[0;34m\u001b[0m\u001b[0;34m\u001b[0m\u001b[0m\n\u001b[0;32m--> 135\u001b[0;31m                   RiseTimeLimits=RiseTimeLimits)\n\u001b[0m\u001b[1;32m    136\u001b[0m \u001b[0;34m\u001b[0m\u001b[0m\n\u001b[1;32m    137\u001b[0m     \u001b[0;32mreturn\u001b[0m \u001b[0mS\u001b[0m\u001b[0;34m\u001b[0m\u001b[0;34m\u001b[0m\u001b[0m\n",
      "\u001b[0;32m~/venv/lib/python3.7/site-packages/control/timeresp.py\u001b[0m in \u001b[0;36mstep_info\u001b[0;34m(sysdata, T, T_num, yfinal, SettlingTimeThreshold, RiseTimeLimits)\u001b[0m\n\u001b[1;32m    899\u001b[0m                 tr_lower_index = np.where(\n\u001b[1;32m    900\u001b[0m                     \u001b[0msgnInf\u001b[0m \u001b[0;34m*\u001b[0m \u001b[0;34m(\u001b[0m\u001b[0myout\u001b[0m \u001b[0;34m-\u001b[0m \u001b[0mRiseTimeLimits\u001b[0m\u001b[0;34m[\u001b[0m\u001b[0;36m0\u001b[0m\u001b[0;34m]\u001b[0m \u001b[0;34m*\u001b[0m \u001b[0mInfValue\u001b[0m\u001b[0;34m)\u001b[0m \u001b[0;34m>=\u001b[0m \u001b[0;36m0\u001b[0m\u001b[0;34m\u001b[0m\u001b[0;34m\u001b[0m\u001b[0m\n\u001b[0;32m--> 901\u001b[0;31m                     )[0][0]\n\u001b[0m\u001b[1;32m    902\u001b[0m                 tr_upper_index = np.where(\n\u001b[1;32m    903\u001b[0m                     \u001b[0msgnInf\u001b[0m \u001b[0;34m*\u001b[0m \u001b[0;34m(\u001b[0m\u001b[0myout\u001b[0m \u001b[0;34m-\u001b[0m \u001b[0mRiseTimeLimits\u001b[0m\u001b[0;34m[\u001b[0m\u001b[0;36m1\u001b[0m\u001b[0;34m]\u001b[0m \u001b[0;34m*\u001b[0m \u001b[0mInfValue\u001b[0m\u001b[0;34m)\u001b[0m \u001b[0;34m>=\u001b[0m \u001b[0;36m0\u001b[0m\u001b[0;34m\u001b[0m\u001b[0;34m\u001b[0m\u001b[0m\n",
      "\u001b[0;31mIndexError\u001b[0m: index 0 is out of bounds for axis 0 with size 0"
     ]
    }
   ],
   "execution_count": 67
  },
  {
   "cell_type": "markdown",
   "source": "### 4. Ponderações sobre o esforço de controle\n\nPara todo projeto de controle, é necessário tentar avaliar o esforço de controle, uma vez que determinada solução pode não ser a mais eficiente em termos de esforço para sua realização. O esforço de controle é a quantidade de energia ou força necessários para que o controlador realize sua atividade corretamente.\n\nAssim sendo, adaptamos o código do laboratório para analisar o esforço de controle da presente planta estudada.",
   "metadata": {
    "tags": [],
    "cell_id": "00035-9cacef01-5a6f-43d5-ab23-a7d8b00a1f30",
    "deepnote_cell_type": "markdown"
   }
  },
  {
   "cell_type": "code",
   "metadata": {
    "tags": [],
    "cell_id": "00036-2e108bbc-6a61-4372-9736-76ee70a81743",
    "deepnote_to_be_reexecuted": false,
    "source_hash": "a4928d79",
    "execution_start": 1627854571668,
    "execution_millis": 14,
    "deepnote_cell_type": "code"
   },
   "source": "esforco = co.minreal(co.feedback(Gc, Gp), verbose=False)\n\nprint(esforco)\ntry:\n    co.stepinfo(esforco)\nexcept Exception as e:\n    print(f\"{e} \\n^^^ A função de transferência é imprópria, o que impossibilida o prosseguimento das simulações\")",
   "execution_count": 23,
   "outputs": [
    {
     "name": "stdout",
     "text": "\n1100 s^6 + 1.138e+07 s^5 + 4.808e+07 s^4 - 3.083e+08 s^3 - 1.532e+09 s^2 - 2.004e+09 s - 8.17e+08\n-------------------------------------------------------------------------------------------------\n                s^5 + 1.034e+04 s^4 + 1.29e+07 s^3 + 2.542e+07 s^2 + 1.214e+07 s\n\nTransfer function is non-proper; can't convert to StateSpace system. \n^^^ A função de transferência é imprópria, o que impossibilida o prosseguimento das simulações\n",
     "output_type": "stream"
    }
   ]
  },
  {
   "cell_type": "markdown",
   "source": "Como visto na célula anterior, a função de transferência para o sistema de controle montado é imprópria, o que, infelizmente, impossibilita a realização do estudo do esforço de controle.\n\nIsso ocorre, porque o grau da expressão do numerador é maior do que o grau da expressão no denominador (mais zeros do que polos).\n\nEssa propriedade, do porquê simulações com um função de transferência imprópria não poderem ser realizadas, vale a pena ser demonstrada, haja visto o detalhamento que deve-se ter para o presente projeto.\n\nSeja suposto o seguinte modelo de espaço de estados:\n\n$$\\dot{x} = Ax +Bu$$\n\n$$y = Cx +Du$$\n\nonde $A \\in \\mathbb{R}^{n \\times n}$. Realizando a transformada de Laplace de ambas as equações de estado e a equação de output, conclui-se que a função de transferência é a seguinte função de matrizes:\n\n$G(s) = C(sI_{n}-A)^{-1}B+D$\n\nPode-se notar que \n\n$(sI_{n}-A)^{-1} = \\frac{adj(sI_{n}-A)}{det(sI_{n}-A)}$\n\nE que:\n\n- Cada entrada da matriz adjunta é um polinômio em $s$ com grau no máximo igual à $n-1$;\n\n- O determinante de $(sI_{n}-A)$ é um polinômio em $s$ com grau $n$.\n\nAssim, conclui-se que cada uma das $n^2$ funções de transferência SISO (single-input single-output/uma entrada uma saída) de $G(s)$ tem a propriedade que o grau do numerador é menor ou igual ao grau do denominador.\n\nPara simularmos uma função de transferência imprópria, portanto, derivadas do input deveriam ser necessárias. O problema é que não é possível realizar derivadas perfeitas.\n\nO módulo da frequência de resposta de um diferenciador aumenta com a frequência. No entanto, não é possível construir um aparato cujo ganho se torna arbitrariamente alto com altas frequências. Caso contrário, qualquer aparelho que conhecemos teriam que possuir uma frequência de corte a partir da qual sua resposta falharia.\n\nOu, seja suposto um sinal descontínuo em um diferenciador perfeito. Ele teria que computar a derivada do sinal, antes de notar que a derivada não existe. Então, qualquer diferenciador é, no máximo, uma aproximação.\n\nAssim sendo, entende-se o porquê de não ser possível computar e analisar o esforço de controle para o presente projeto. Pode-se, portanto, partir para análises de respota do sistema quando sobre aplicações de distúrbios.",
   "metadata": {
    "tags": [],
    "cell_id": "00036-632ee854-d10d-41a7-b5e1-7d46c42cabe7",
    "deepnote_cell_type": "markdown"
   }
  },
  {
   "cell_type": "code",
   "source": "G1 = R*vartheta/(Gamma*R*s**2 + Gamma*r*s**2 - R**2*g*m*vartheta - Theta*g*m*r**2)\n\nGesfcima = Gc*1/(L_m*s + R_m)\nGesfbaixo = ((1/Gc*K_v/(s*(R**2*m*vartheta+Theta*m*r**2+Theta*vartheta))\n    *(R*g*m*vartheta+(m*r**2 + vartheta)/G1)*1/(R+r)+1)*K_t*n*G1*(R+r))\n\nGesf = co.minreal(co.feedback(Gesfcima, Gesfbaixo))\nprint(Gesf)",
   "metadata": {
    "tags": [],
    "cell_id": "00032-571f9a1d-c4fd-493e-8b89-6648bbe09975",
    "deepnote_to_be_reexecuted": false,
    "source_hash": "2e259e6b",
    "execution_start": 1627855141568,
    "execution_millis": 23,
    "deepnote_cell_type": "code"
   },
   "outputs": [
    {
     "name": "stdout",
     "text": "1 states have been removed from the model\n\n9.483e+05 s^6 + 3.793e+06 s^5 - 2.517e+07 s^4 - 1.196e+08 s^3 - 1.842e+08 s^2 - 1.234e+08 s - 3.086e+07\n-------------------------------------------------------------------------------------------------------\n     s^6 + 1.035e+04 s^5 + 1.292e+07 s^4 + 5.123e+07 s^3 + 7.588e+07 s^2 + 4.969e+07 s + 1.214e+07\n\n",
     "output_type": "stream"
    }
   ],
   "execution_count": 39
  },
  {
   "cell_type": "code",
   "source": "y, t = co.step(Gesf)\nplt.plot(t, y)",
   "metadata": {
    "tags": [],
    "cell_id": "00033-fb312309-74a8-43da-bbf1-72fbc6b405a4",
    "deepnote_to_be_reexecuted": false,
    "source_hash": "421bd07a",
    "execution_start": 1627855176405,
    "execution_millis": 235,
    "deepnote_cell_type": "code"
   },
   "outputs": [
    {
     "output_type": "execute_result",
     "execution_count": 40,
     "data": {
      "text/plain": "[<matplotlib.lines.Line2D at 0x7f8f2a0a8c10>]"
     },
     "metadata": {}
    },
    {
     "data": {
      "text/plain": "<Figure size 432x288 with 1 Axes>",
      "image/png": "[encoded data removed]"
     },
     "metadata": {
      "needs_background": "light",
      "image/png": {
       "width": 407,
       "height": 248
      }
     },
     "output_type": "display_data"
    }
   ],
   "execution_count": 40
  },
  {
   "cell_type": "markdown",
   "source": "### 5. Aplicações de distúrbios\n\nComo o presente projeto é físicamente intuitivo e intrigante em termos de interações com usuários externos, é extremamente válido observar o comportamento do sistema com o controlador projetado ao ser exposto a distúrbios externos. Em termos práticos, considera-se nulo o setpoint, $Y_{sp}(s) = 0$, uma vez que a intenção será observar como a montagem reage ao tentar trazer a bola para cima, na posição de equilíbrio instável, na qual o valor de $Y$ é justamente nulo. A Figura a seguir apresenta o diagrama de blocos com a consideração do distúrbio.\n\n![Picture title](Figuras/db-disturbios.png)\n\n\nSerão realizados 4 testes principais, variando o comportamento de $D(s)$, escolhidos seguindo a usualidade de projetos de controle e a curiosidade dos membros, os quais pensaram em testes plausíveis que seriam realizados por usuários externos ao entrar em contato com o sistema.",
   "metadata": {
    "tags": [],
    "cell_id": "00030-f0df2ad4-8ad9-439b-b685-686a8a7f4cff",
    "deepnote_cell_type": "markdown"
   }
  },
  {
   "cell_type": "markdown",
   "source": "#### 5.1 Degrau\n\nO primeiro teste a ser realizado representa a consideração de $D(s)$ como um degrau (step). Fisicamente, seria como se a bolinha sofresse esforços equivalentes a ser constantemente empurrada 1cm (amplitude do degrau escolhido) fora de sua posição de equilíbrio. O sistema deve ser capaz de fazer a mesma voltar, isto é, compensar esse distúrbio.\n\nO código abaixo expõe a construção do presente teste. A aplicação do degrau foi feita a partir de $0.25\\;s$.",
   "metadata": {
    "tags": [],
    "cell_id": "00038-3f1930db-297d-49b9-adb8-83a7068d9118",
    "deepnote_cell_type": "markdown"
   }
  },
  {
   "cell_type": "code",
   "metadata": {
    "tags": [],
    "cell_id": "00037-9d0689fc-f18d-4a14-8cc7-4e4efd045ad5",
    "deepnote_to_be_reexecuted": false,
    "source_hash": "af624c8",
    "execution_start": 1627858017493,
    "execution_millis": 337,
    "deepnote_cell_type": "code"
   },
   "source": "t = np.linspace(0, 500e-3, 10000)\nentrada = np.zeros(len(t))\nentrada[len(t)//2:] = 0.01\ny,t,xout= co.lsim(co.feedback(1, Gfinal), entrada, t)\n\n# y, t = co.impulse(co.feedback(1, Gfinal))\nplt.figure()\nplt.plot(t,y)\nplt.grid()",
   "execution_count": 47,
   "outputs": [
    {
     "data": {
      "text/plain": "<Figure size 432x288 with 1 Axes>",
      "image/png": "[encoded data removed]"
     },
     "metadata": {
      "needs_background": "light",
      "image/png": {
       "width": 384,
       "height": 248
      }
     },
     "output_type": "display_data"
    }
   ]
  },
  {
   "cell_type": "markdown",
   "source": "Percebe-se que o sistema responde bem a esse distúrbio, fazendo a bolinha retornar a sua posição de equilíbrio muito rapidamente.\n\n#### 5.2 Impulso\n\nUm dos testes mais interessantes a ser feito, equivale a um \"peteleco\" externo na bolinha. Espera-se novamente que o sistema seja capaz de fazer a mesma retornar a sua posição de equilíbrio instável rapidamente.\n\nO código abaixo expõe a construção do presente teste. A aplicação do impulso foi feita em $0.5\\;s$.",
   "metadata": {
    "tags": [],
    "cell_id": "00040-00d1f318-6794-4b7e-a68b-cebc047cf35d",
    "deepnote_cell_type": "markdown"
   }
  },
  {
   "cell_type": "code",
   "metadata": {
    "tags": [],
    "cell_id": "00041-368e07ad-7c21-4d61-9d37-aa0456fc9c02",
    "deepnote_to_be_reexecuted": false,
    "source_hash": "676fff16",
    "execution_start": 1627852174556,
    "execution_millis": 327,
    "deepnote_cell_type": "code"
   },
   "source": "t = np.linspace(0, 1000e-3, 10000)\nentrada = np.zeros(len(t))\nentrada[len(t)//2] = 0.01\ny,t,xout= co.lsim(co.feedback(1, Gfinal), entrada, t)\n\nplt.figure()\nplt.plot(t,y)\nplt.grid()",
   "execution_count": 20,
   "outputs": [
    {
     "data": {
      "text/plain": "<Figure size 432x288 with 1 Axes>",
      "image/png": "[encoded data removed]"
     },
     "metadata": {
      "needs_background": "light",
      "image/png": {
       "width": 384,
       "height": 248
      }
     },
     "output_type": "display_data"
    }
   ]
  },
  {
   "cell_type": "markdown",
   "source": "Percebe-se que o sistema responde bem a esse distúrbio, fazendo a bolinha retornar a sua posição de equilíbrio muito rapidamente. Porém, como esperado fisicamente, a bolinha passa por uma espécie de sobressinal, isto é, retorna até o equilíbrio mas o passa por uma distância pequena. Tal erro é corrigido logo na sequência, uma vez que a mesma retorna para a posição de equilíbrio no sentido contrário.\n\n#### 5.3 Alternância de impulsos na mesmo sentido\n\nPara este terceiro teste, serão utilizados impulsos no mesmo sentido em diferentes intantes de tempo. Fisicamente, representa dois \"petelecos\" no mesmo sentido. O primeiro acontece aos $0.25\\;s$ e o segundo aos $0.5\\;s$.",
   "metadata": {
    "tags": [],
    "cell_id": "00042-d4dec560-8b6d-4213-82e8-d61be6dc736e",
    "deepnote_cell_type": "markdown"
   }
  },
  {
   "cell_type": "code",
   "metadata": {
    "tags": [],
    "cell_id": "00045-d8b31d86-a7e1-4797-9da9-1c464b76e716",
    "deepnote_to_be_reexecuted": false,
    "source_hash": "81ba509b",
    "execution_start": 1627852174880,
    "execution_millis": 345,
    "deepnote_cell_type": "code"
   },
   "source": "t = np.linspace(0, 1000e-3, 10000)\nentrada = np.zeros(len(t))\nentrada[len(t)//4] = 0.01\n\nentrada[len(t)//2] = 0.01\ny,t,xout= co.lsim(co.feedback(1, Gfinal), entrada, t)\n\nplt.figure()\nplt.plot(t,y)\nplt.grid()",
   "execution_count": 21,
   "outputs": [
    {
     "data": {
      "text/plain": "<Figure size 432x288 with 1 Axes>",
      "image/png": "[encoded data removed]"
     },
     "metadata": {
      "needs_background": "light",
      "image/png": {
       "width": 384,
       "height": 248
      }
     },
     "output_type": "display_data"
    }
   ]
  },
  {
   "cell_type": "markdown",
   "source": "Percebe-se que o sistema responde bem a esse distúrbio, fazendo a bolinha retornar a sua posição de equilíbrio muito rapidamente nas duas vezes. Porém, assim como para o caso com apenas um \"peteleco\", como esperado fisicamente, a bolinha passa por uma espécie de sobressinal, isto é, retorna até o equilíbrio mas o passa por uma distância pequena. Tal erro é corrigido logo na sequência, uma vez que a mesma retorna para a posição de equilíbrio no sentido contrário.\n\n#### 5.4 Alternância de impulsos com sentidos contrários\n\nNo último teste, realiza-se algo similar ao anterior, porém com dois \"petelecos\" em sentidos contrários. O primeiro acontece aos $0.25\\;s$ e o segundo aos $0.5\\;s$.",
   "metadata": {
    "tags": [],
    "cell_id": "00046-bf1f9c28-5e03-4f5c-8bcb-ce02f77f3819",
    "deepnote_cell_type": "markdown"
   }
  },
  {
   "cell_type": "code",
   "metadata": {
    "tags": [],
    "cell_id": "00047-ef8dd274-5202-41f5-b0c3-0b2d0691dfe2",
    "deepnote_to_be_reexecuted": false,
    "source_hash": "57b42f61",
    "execution_start": 1627852175223,
    "execution_millis": 347,
    "deepnote_cell_type": "code"
   },
   "source": "t = np.linspace(0, 1000e-3, 10000)\nentrada = np.zeros(len(t))\nentrada[len(t)//4] = 0.01\n\nentrada[len(t)//2] = - 0.01\ny,t,xout= co.lsim(co.feedback(1, Gfinal), entrada, t)\n\nplt.figure()\nplt.plot(t,y)\nplt.grid()",
   "execution_count": 22,
   "outputs": [
    {
     "data": {
      "text/plain": "<Figure size 432x288 with 1 Axes>",
      "image/png": "[encoded data removed]"
     },
     "metadata": {
      "needs_background": "light",
      "image/png": {
       "width": 399,
       "height": 248
      }
     },
     "output_type": "display_data"
    }
   ]
  },
  {
   "cell_type": "markdown",
   "source": "Percebe-se que o sistema responde bem a esse distúrbio, fazendo a bolinha retornar a sua posição de equilíbrio muito rapidamente nas duas vezes. Porém, assim como para os casos anteriores, como esperado fisicamente, a bolinha passa por uma espécie de sobressinal, isto é, retorna até o equilíbrio mas o passa por uma distância pequena. Tal erro é corrigido logo na sequência, uma vez que a mesma retorna para a posição de equilíbrio no sentido contrário, para ambos os impulsos realizados.\n\n\n### 6. Discussões\n\nAqui comentar sobre destrinchamento da planta\n\nAqui colocar sobre o método de dimensionamento\n\nSobre o fato de nao simular esforco de controle\n\nSobre os gráficos quanto a desturbios\n\nCOLOCAR LINK DO GIT HUB TALVEZ (?)",
   "metadata": {
    "id": "CygfvgDpYFSi",
    "cell_id": "00007-a8e7a4af-aee0-412d-8676-8ff0ffc99b35",
    "deepnote_cell_type": "markdown"
   }
  },
  {
   "cell_type": "markdown",
   "source": "### 7. Conclusões\n\nUma vez dimensionado o sistema de controle, obtidos os gráficos e discutidas suas representações, considerando aspectos físicos, pode-se encerrar o presente relatório com conclusões gerais do trabalho. Inicialmente, deve-se ressaltar o caráter físico da problemática, isto é, por ser uma planta com traços e necessidades (requisitos) comuns no ramo da engenharia, dá-se enorme valor ao tratamento de suas equações e à resolução por métodos analíticos e computacionais. Tal valor, combinado com considerações desenvolvidas em diversas linguagens e bibliotecas, agrega valor para à engenharia tanto no sentido acadêmico, quanto no de mercado.\n\nAdicionalmente, dado o caráter didático da disciplina, deve-se citar a relevância do aprofundamento e desenvolvimento de diferentes métodos para a resolução do presente trabalho. Assim como visto na teoria, em aula, pode-se colocar em prática o conhecimento recebido e observar, com os próprios olhos, o trade-off sempre presente na engenharia: entre precisão e esforço analítico-computacional, geralmente conectado com o tempo de obtenção de uma solução. Leva-se, portanto, para a posteridade da equipe, o contato com o traquejo ao se procurar não uma solução ideal, mas sim a solução suficientemente adequada (sempre com segurança) para a realização de projetos futuros e análise de fenômenos físicos.\n\nPor fim, o contato com ferramentas importantes para a indústria atual, como Python e suas bibliotecas (simbólicas, relacionadas à controle e algébricas), completam e agregam ao trabalho mais um aprendizado valoroso. Encerra-se o presente estudo, não só com o treino de habilidades qualitativas, mas também com o aperfeiçoamento de habilidades técnico-operacionais, as quais não são, de modo algum, comparáveis entre si, sendo únicas e importantes de maneiras diferentes para a realização de um estudo acadêmico e de um projeto de engenharia.",
   "metadata": {
    "id": "UPWa4EetYFSj",
    "cell_id": "00009-77fd42a4-a1eb-499c-bf7a-f2d68099f4cd",
    "deepnote_cell_type": "markdown"
   }
  },
  {
   "cell_type": "markdown",
   "source": "### 8. Agradecimentos\n\nUtiliza-se o espaço deste trabalho para realizar um agradecimento aos docentes da disciplina. A disciplina se mostrou extremamente divertida e cativante. Dessa forma, achamos importante ressaltar esses momentos durante nossa graduação. Nosso muito obrigado e até uma próxima!",
   "metadata": {
    "tags": [],
    "cell_id": "00032-a3e97e48-dca2-4886-85e1-bb09c154b0f8",
    "deepnote_cell_type": "markdown"
   }
  },
  {
   "cell_type": "markdown",
   "source": "<a style='text-decoration:none;line-height:16px;display:flex;color:#5B5B62;padding:10px;justify-content:end;' href='https://deepnote.com?utm_source=created-in-deepnote-cell&projectId=a4b5d483-a464-4b27-a020-25b9883aaa56' target=\"_blank\">\n<img alt='Created in deepnote.com' style='display:inline;max-height:16px;margin:0px;margin-right:7.5px;' src='data:image/svg+xml;base64,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' > </img>\nCreated in <span style='font-weight:600;margin-left:4px;'>Deepnote</span></a>",
   "metadata": {
    "tags": [],
    "created_in_deepnote_cell": true,
    "deepnote_cell_type": "markdown"
   }
  }
 ],
 "nbformat": 4,
 "nbformat_minor": 0,
 "metadata": {
  "kernelspec": {
   "display_name": "Python 3",
   "language": "python",
   "name": "python3"
  },
  "language_info": {
   "codemirror_mode": {
    "name": "ipython",
    "version": 3
   },
   "file_extension": ".py",
   "mimetype": "text/x-python",
   "name": "python",
   "nbconvert_exporter": "python",
   "pygments_lexer": "ipython3",
   "version": "3.8.5"
  },
  "colab": {
   "name": "Trabalho Final.ipynb",
   "provenance": [],
   "collapsed_sections": []
  },
  "deepnote_notebook_id": "320d4842-f02b-4ac8-b599-e88d7433d27c",
  "deepnote": {},
  "deepnote_execution_queue": []
 }
}