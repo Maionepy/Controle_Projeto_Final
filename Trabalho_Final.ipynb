{
 "cells": [
  {
   "cell_type": "markdown",
   "source": "# PMR3404 - Controle I\n# Projeto Final (Ball on Wheel)\n\n#### Bruno Fernandes Maione (10770631)\n#### Victor Kowalski Martins (10770482)\n\n#### Professores:\n\n#### Julho 2021",
   "metadata": {
    "id": "TFL27QDFYFSb",
    "cell_id": "00000-202c4321-e54e-4a0c-bec2-767c402c0132",
    "deepnote_cell_type": "markdown"
   }
  },
  {
   "cell_type": "code",
   "metadata": {
    "id": "tfDhZcd2YFSe",
    "cell_id": "00001-c45d5ffd-211e-4627-9ab2-b3c282342b2d",
    "deepnote_to_be_reexecuted": false,
    "source_hash": "e026c56f",
    "execution_start": 1626966290720,
    "execution_millis": 6,
    "deepnote_cell_type": "code"
   },
   "source": "# Aqui importamos todas as bibliotecas que serão utilizadas no projeto\n\nfrom sympy import *\nimport warnings\ninit_printing(use_unicode=True)\nwarnings.filterwarnings('ignore')",
   "outputs": [],
   "execution_count": 70
  },
  {
   "cell_type": "markdown",
   "source": "### 1. Introdução",
   "metadata": {
    "id": "zdjbyWi4YFSf",
    "cell_id": "00002-32d98f2f-e55d-41cc-86ef-87ab8372bfeb",
    "deepnote_cell_type": "markdown"
   }
  },
  {
   "cell_type": "markdown",
   "source": "O primeiro passo a ser efetuado para o presente projeto é a definição e simplificação das equações de movimento, que deverão ser analisadas para uma futura construção do diagrama de blocos de nossa planta.\n\nComo trabalharemos com ângulos pequenos e, principalmente, para possibilitar as transformadas de laplace posteriores, será utilizada a seguinte aproximação para os senos:\n\n$$\nsin(x) = x\n$$\n\nTal aproximação, adaptada do primeiro limite fundamental do Cálculo, funciona para ângulos menores de 14º com erro de menos de 1%, o que se trata de uma precisão perfeitamente satisfatória para o projeto.",
   "metadata": {
    "tags": [],
    "cell_id": "00003-a15e59cd-68df-419b-ac97-6be5a4ebb4c7",
    "deepnote_cell_type": "markdown"
   }
  },
  {
   "cell_type": "code",
   "metadata": {
    "scrolled": true,
    "id": "e6X3u0LLYFSf",
    "cell_id": "00003-aca322d3-0d0e-4ae9-877b-a873694e5a42",
    "deepnote_to_be_reexecuted": false,
    "source_hash": "919dd1f7",
    "execution_start": 1626967627882,
    "execution_millis": 40,
    "deepnote_cell_type": "code"
   },
   "source": "# Definindo as equações de movimento\n\nt = symbols('t')\ns = symbols('s')\nm = symbols('m')\nr = symbols('r')\nR = symbols('R')\ng = symbols('g')\nv = symbols('vartheta')\nO = symbols('Theta')\nn = symbols('n')\nK = symbols('K_t')\nL = symbols('L_m')\nRm = symbols('R_m')\n\nT = O*v + m*(v*(R**2) + O*(r**2))\n\ny, psi, chi, u, i, V = symbols('y, psi, chi, u, i, V', cls=Function)\n\ny = y(t)\ny_dot = y.diff()\ny_ddot = y_dot.diff()\n\npsi = psi(t)\npsi_dot = psi.diff()\npsi_ddot = psi_dot.diff()\n\nchi = chi(t)\nchi_dot = chi.diff()\nchi_ddot = chi_dot.diff()\n\nu = u(t)\nu_dot = u.diff()\nu_ddot = u_dot.diff()\n\ni = i(t)\ni_dot = i.diff()\ni_ddot = i_dot.diff()\n\nV = V(t)\nV_dot = V.diff()\nV_ddot = V_dot.diff()\n\neq_y = Eq(y ,(R+r)*chi) # seno linearizado\neq_psi_ddot = Eq(psi_ddot ,((m*(r**2) + v)*u + m*g*R*v*chi)/T)\neq_chi_ddot = Eq(chi_ddot ,(v*R*u + (O*(r**2) + v*(R**2))*m*g*chi)/(T*(r+R)))\neq_u = Eq(u ,n*K*i)\neq_V = Eq(V, L*i_dot + Rm*i + K*psi_dot)\n",
   "outputs": [],
   "execution_count": 104
  },
  {
   "cell_type": "markdown",
   "source": "Uma vez com as equações definidas no código, podemos realizar as manipulações no domínio da frequência, com as transformadas de laplace.\n\nComo a biblioteca Sympy no Python não tem suporte nativo para transformadas de laplace com derivadas e integrais, devemos definir uma função (que aproveite o básico da bilbioteca nativa) para abrangir tais funcionalidades e possibilite o uso ao longo das deduções, uma vez que essas peculiaridades com certeza seriam utilizadas.",
   "metadata": {
    "tags": [],
    "cell_id": "00004-29de3f6e-adfa-4261-a79e-f26b3d85ae4a",
    "deepnote_cell_type": "markdown"
   }
  },
  {
   "cell_type": "code",
   "metadata": {
    "colab": {
     "base_uri": "https://localhost:8080/",
     "height": 55
    },
    "id": "prWni-fAYFSg",
    "outputId": "7c8f81c0-f4b3-44fb-8bd9-02755dc22187",
    "cell_id": "00004-6484d228-93e4-47ff-8883-4884cce92298",
    "deepnote_to_be_reexecuted": false,
    "source_hash": "d5c6c9c4",
    "execution_start": 1626967126146,
    "execution_millis": 0,
    "deepnote_cell_type": "code"
   },
   "source": "def laplace_completa(e, t, s):\n    \"\"\"\n        Função completa adaptada da transformada de laplace, acrescido do suporte à derivadas e integrais.\n        Adaptada de: https://github.com/sympy/sympy/issues/7219#issuecomment-154768904\n\n        Parâmetros\n            Inputs: e (expressão simbólica à ser transformada), t (simbólico que representa o tempo), s (simbólico que representa o s de nossa transformada)\n            Outputs: res (expressão simnólica após a transformada)\n    \"\"\"\n\n    res = laplace_transform(e, t, s, noconds=True)\n    wf = Wild('f')\n    lw = LaplaceTransform(wf, t, s)\n\n    for exp in res.find(lw):\n        e = exp.match(lw)[wf]\n        args = e.args\n\n        if isinstance(e, Derivative):\n            # for derivative check that there's only d/dt^n with n>0\n            if len(args) == 2 and args[1][0] == t:\n                n = args[1][1]\n                if n > 0:\n                    newexp = s**n * LaplaceTransform(e.args[0], t, s)\n                res = res.replace(exp, newexp)\n\n        elif isinstance(e, Integral):\n            # for integral check that there's only n consecutive indefinite integrals w.r.t. t\n            if all(len(arg) == 1 and arg[0] == t for arg in args[1:]):\n                newexp = s**(-len(args[1:])) * LaplaceTransform(args[0], t, s)\n                res = res.replace(exp, newexp)\n\n        # caso não tenha derivada ou integral, segue sem entrar nos ifs\n\n    return res",
   "outputs": [],
   "execution_count": 97
  },
  {
   "cell_type": "code",
   "source": "y_s = laplace_completa(y, t, s)\neq_y_s = Eq(y_s, solve(Eq(laplace_completa(eq_y.lhs,t,s), laplace_completa(eq_y.rhs,t,s)), y_s)[0])\neq_y_s",
   "metadata": {
    "tags": [],
    "cell_id": "00006-f5993cc4-85cb-4182-9036-664e484d082c",
    "deepnote_to_be_reexecuted": false,
    "source_hash": "7532c585",
    "execution_start": 1626967386716,
    "execution_millis": 125,
    "deepnote_cell_type": "code"
   },
   "outputs": [
    {
     "output_type": "execute_result",
     "execution_count": 101,
     "data": {
      "text/plain": "LaplaceTransform(y(t), t, s) = (R + r)⋅LaplaceTransform(χ(t), t, s)",
      "image/png": "[encoded data removed]",
      "text/latex": "$\\displaystyle \\mathcal{L}_{t}\\left[y{\\left(t \\right)}\\right]\\left(s\\right) = \\left(R + r\\right) \\mathcal{L}_{t}\\left[\\chi{\\left(t \\right)}\\right]\\left(s\\right)$"
     },
     "metadata": {
      "image/png": {
       "width": 282,
       "height": 23
      }
     }
    }
   ],
   "execution_count": 101
  },
  {
   "cell_type": "code",
   "source": "chi_s = laplace_completa(chi, t, s)\neq_chi_s = Eq(chi_s, solve(Eq(laplace_completa(eq_chi_ddot.lhs,t,s), laplace_completa(eq_chi_ddot.rhs,t,s)), chi_s)[0])\neq_chi_s\n#laplace_completa(eq_chi_ddot.rhs,t,s).simplify()",
   "metadata": {
    "tags": [],
    "cell_id": "00008-af80a9b1-fa1e-452e-b2c5-cdb106fb32f5",
    "deepnote_to_be_reexecuted": false,
    "source_hash": "9c240bae",
    "execution_start": 1626967824390,
    "execution_millis": 345,
    "deepnote_cell_type": "code"
   },
   "outputs": [
    {
     "output_type": "execute_result",
     "execution_count": 110,
     "data": {
      "text/plain": "                                                                           R⋅v\nLaplaceTransform(χ(t), t, s) = ───────────────────────────────────────────────\n                                3    2             2                 2      2 \n                               R ⋅m⋅s ⋅vartheta - R ⋅g⋅m⋅vartheta + R ⋅m⋅r⋅s ⋅\n\nartheta⋅LaplaceTransform(u(t), t, s)                                          \n──────────────────────────────────────────────────────────────────────────────\n                  2  2        2                   2        3  2        2      \nvartheta + R⋅Θ⋅m⋅r ⋅s  + R⋅Θ⋅s ⋅vartheta - Θ⋅g⋅m⋅r  + Θ⋅m⋅r ⋅s  + Θ⋅r⋅s ⋅varth\n\n   \n───\n   \neta",
      "image/png": "[encoded data removed]",
      "text/latex": "$\\displaystyle \\mathcal{L}_{t}\\left[\\chi{\\left(t \\right)}\\right]\\left(s\\right) = \\frac{R \\vartheta \\mathcal{L}_{t}\\left[u{\\left(t \\right)}\\right]\\left(s\\right)}{R^{3} m s^{2} \\vartheta - R^{2} g m \\vartheta + R^{2} m r s^{2} \\vartheta + R \\Theta m r^{2} s^{2} + R \\Theta s^{2} \\vartheta - \\Theta g m r^{2} + \\Theta m r^{3} s^{2} + \\Theta r s^{2} \\vartheta}$"
     },
     "metadata": {
      "image/png": {
       "width": 651,
       "height": 40
      }
     }
    }
   ],
   "execution_count": 110
  },
  {
   "cell_type": "code",
   "source": "i_s = laplace_completa(i, t, s)\neq_i_s = Eq(i_s, solve(Eq(laplace_completa(eq_V.lhs,t,s), laplace_completa(eq_V.rhs,t,s)), i_s)[0])\neq_i_s",
   "metadata": {
    "tags": [],
    "cell_id": "00005-e08d8e92-d16a-4851-bb8d-265700ff37fe",
    "deepnote_to_be_reexecuted": false,
    "source_hash": "c4c4e8",
    "execution_start": 1626967804177,
    "execution_millis": 218,
    "deepnote_cell_type": "code"
   },
   "outputs": [
    {
     "output_type": "execute_result",
     "execution_count": 109,
     "data": {
      "text/plain": "                               -Kₜ⋅s⋅LaplaceTransform(ψ(t), t, s) + LaplaceTra\nLaplaceTransform(i(t), t, s) = ───────────────────────────────────────────────\n                                                           Lₘ⋅s + Rₘ          \n\nnsform(V(t), t, s)\n──────────────────\n                  ",
      "image/png": "[encoded data removed]",
      "text/latex": "$\\displaystyle \\mathcal{L}_{t}\\left[i{\\left(t \\right)}\\right]\\left(s\\right) = \\frac{- K_{t} s \\mathcal{L}_{t}\\left[\\psi{\\left(t \\right)}\\right]\\left(s\\right) + \\mathcal{L}_{t}\\left[V{\\left(t \\right)}\\right]\\left(s\\right)}{L_{m} s + R_{m}}$"
     },
     "metadata": {
      "image/png": {
       "width": 305,
       "height": 37
      }
     }
    }
   ],
   "execution_count": 109
  },
  {
   "cell_type": "markdown",
   "source": "### 3. Discussões",
   "metadata": {
    "id": "CygfvgDpYFSi",
    "cell_id": "00007-a8e7a4af-aee0-412d-8676-8ff0ffc99b35",
    "deepnote_cell_type": "markdown"
   }
  },
  {
   "cell_type": "markdown",
   "source": "### 4. Conclusões",
   "metadata": {
    "id": "UPWa4EetYFSj",
    "cell_id": "00009-77fd42a4-a1eb-499c-bf7a-f2d68099f4cd",
    "deepnote_cell_type": "markdown"
   }
  },
  {
   "cell_type": "markdown",
   "source": "<a style='text-decoration:none;line-height:16px;display:flex;color:#5B5B62;padding:10px;justify-content:end;' href='https://deepnote.com?utm_source=created-in-deepnote-cell&projectId=a4b5d483-a464-4b27-a020-25b9883aaa56' target=\"_blank\">\n<img alt='Created in deepnote.com' style='display:inline;max-height:16px;margin:0px;margin-right:7.5px;' src='data:image/svg+xml;base64,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' > </img>\nCreated in <span style='font-weight:600;margin-left:4px;'>Deepnote</span></a>",
   "metadata": {
    "tags": [],
    "created_in_deepnote_cell": true,
    "deepnote_cell_type": "markdown"
   }
  }
 ],
 "nbformat": 4,
 "nbformat_minor": 0,
 "metadata": {
  "kernelspec": {
   "display_name": "Python 3",
   "language": "python",
   "name": "python3"
  },
  "language_info": {
   "codemirror_mode": {
    "name": "ipython",
    "version": 3
   },
   "file_extension": ".py",
   "mimetype": "text/x-python",
   "name": "python",
   "nbconvert_exporter": "python",
   "pygments_lexer": "ipython3",
   "version": "3.8.5"
  },
  "colab": {
   "name": "Trabalho Final.ipynb",
   "provenance": [],
   "collapsed_sections": []
  },
  "deepnote_notebook_id": "320d4842-f02b-4ac8-b599-e88d7433d27c",
  "deepnote": {},
  "deepnote_execution_queue": []
 }
}